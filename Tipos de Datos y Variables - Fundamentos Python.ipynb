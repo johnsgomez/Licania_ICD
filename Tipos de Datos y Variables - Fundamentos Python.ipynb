{
 "cells": [
  {
   "cell_type": "markdown",
   "metadata": {},
   "source": [
    "![Introducción a la Ciencia de Datos](https://licania.org/img/datascience_web.jpg)"
   ]
  },
  {
   "cell_type": "markdown",
   "metadata": {},
   "source": [
    "### Tipos de Datos\n",
    "\n",
    "¿Cuál es la diferencia entre? <code>1</code>, <code>1.0</code> y <code>\"1\"</code>. Es posible que para nosotros como seres humanos estos datos sean equivalentes. Sin embargo un computador lee estos elementos de forma completamente diferente. Esto se debe a que el computador (en este caso el intérprete de Python) asigna diferentes **tipos de datos** a estas expresiones. En python, para conocer el tipo de dato de una expresión, usamos la función <code>type()</code>. Ejecuta la función <code>type()</code> en cada una de las siguientes casillas para conocer qué **tipo de dato** les asigna Python. "
   ]
  },
  {
   "cell_type": "code",
   "execution_count": null,
   "metadata": {},
   "outputs": [],
   "source": [
    "type(1)"
   ]
  },
  {
   "cell_type": "code",
   "execution_count": null,
   "metadata": {},
   "outputs": [],
   "source": [
    "type(1.0)"
   ]
  },
  {
   "cell_type": "code",
   "execution_count": null,
   "metadata": {},
   "outputs": [],
   "source": [
    "type(\"1\")"
   ]
  },
  {
   "cell_type": "markdown",
   "metadata": {},
   "source": [
    "Como se puede observar en los anteriores ejemplos, estos datos, que en apariencia son los mismos, pertenecen en realidad a diferentes **tipos de datos**. El tipo **int** se refiere a un **número entero** que no contiene números decimales. El tipo **float** se refiere a un **número racional** que contiene decimales. Finalmente, el tipo **str** se refiere a una **cadena de caracteres** como los que componen este texto. "
   ]
  },
  {
   "cell_type": "markdown",
   "metadata": {},
   "source": [
    "### Operaciones con *int*, *float* y *str*"
   ]
  },
  {
   "cell_type": "markdown",
   "metadata": {},
   "source": [
    "Para cada uno de estos **tipos de datos**, Python permite cierto tipo de operaciones. Existen operaciones que son comunes para todos ellos, como la función <code>print()</code> que imprime en la consola. "
   ]
  },
  {
   "cell_type": "code",
   "execution_count": null,
   "metadata": {},
   "outputs": [],
   "source": [
    "print(1)\n",
    "print(1.1)\n",
    "print(\"1\")"
   ]
  },
  {
   "cell_type": "markdown",
   "metadata": {},
   "source": [
    "Sin embargo, existen operaciones que no se pueden realizar con todos los tipos de datos. Por ejemplo la operación <code> / </code>, es válida para **int** o **float**, pero no está permitida para **str**:"
   ]
  },
  {
   "cell_type": "code",
   "execution_count": null,
   "metadata": {},
   "outputs": [],
   "source": [
    "print(1/2)\n",
    "print(1.5/2)"
   ]
  },
  {
   "cell_type": "markdown",
   "metadata": {},
   "source": [
    "Al intentar ejecutar esta operación con **str** el intérprete nos va a generar un **TypeError**"
   ]
  },
  {
   "cell_type": "code",
   "execution_count": null,
   "metadata": {},
   "outputs": [],
   "source": [
    "print(\"1\"/\"2\")"
   ]
  },
  {
   "cell_type": "markdown",
   "metadata": {},
   "source": [
    "Adicionalmente, otras operaciones pueden comportarse de forma diferente de acuerdo al **tipo de dato** con el que estemos trabajando. Es el caso de la operación <code> + </code>:"
   ]
  },
  {
   "cell_type": "code",
   "execution_count": null,
   "metadata": {},
   "outputs": [],
   "source": [
    "print(1+1)\n",
    "print(1.5+1.5)\n",
    "print(\"1\" + \"1\")"
   ]
  },
  {
   "cell_type": "markdown",
   "metadata": {},
   "source": [
    "### Operaciones con *int* y *float*"
   ]
  },
  {
   "cell_type": "markdown",
   "metadata": {},
   "source": [
    "Python puede ser usado como una calculadora, que permite diferentes operaciones como:\n",
    "\n",
    "<table>\n",
    "    <tr>\n",
    "        <td> <h3> <b>Suma</b> </h3> </td> \n",
    "        <td> <h3> <code> + </code> </h3> </td> \n",
    "    </tr>\n",
    "    <tr>\n",
    "        <td> <h3> <b>Resta</b> </h3> </td> \n",
    "        <td> <h3> <code> - </code> </h3> </td> \n",
    "    </tr>\n",
    "    <tr>\n",
    "        <td> <h3> <b>Multiplicación</b> </h3> </td> \n",
    "        <td> <h3> <code> * </code> </h3> </td>  \n",
    "    </tr>\n",
    "    <tr>\n",
    "        <td> <h3> <b>División</b> </h3> </td> \n",
    "        <td> <h3> <code> / </code> </h3> </td> \n",
    "    </tr>\n",
    "    <tr>\n",
    "        <td> <h3> <b>Potenciación</b> </h3> </td> \n",
    "        <td> <h3> <code> ** </code> </h3> </td> \n",
    "    </tr>\n",
    "    <tr>\n",
    "        <td> <h3> <b>División Modular</b> </h3> </td> \n",
    "        <td> <h3> <code> % </code> </h3> </td> \n",
    "    </tr>\n",
    "   \n",
    "</table>\n",
    "\n",
    "En la siguiente casilla puedes explorar estas operaciones usando Python como una calculadora:\n",
    "\n"
   ]
  },
  {
   "cell_type": "code",
   "execution_count": null,
   "metadata": {},
   "outputs": [],
   "source": [
    "# Escribe tu código aquí\n",
    "\n",
    "\n",
    "\n",
    "#"
   ]
  },
  {
   "cell_type": "markdown",
   "metadata": {},
   "source": [
    "### Operaciones con *str*"
   ]
  },
  {
   "cell_type": "markdown",
   "metadata": {},
   "source": [
    "**str** permite muchas operaciones, como se ve en la siguente tabla. \n",
    "\n",
    "<table>\n",
    "    <tr>\n",
    "        <td> <h3> <b> Print </b> </h3> </td> \n",
    "        <td> <h3> <code> print() </code> </h3> </td> \n",
    "        <td> <h3>  Imprime en la consola  </h3> </td> \n",
    "    </tr>\n",
    "    <tr>\n",
    "        <td> <h3> <b> Concatenación </b> </h3> </td> \n",
    "        <td> <h3> <code> + </code> o <code> , </code> </h3> </td> \n",
    "        <td> <h3>  Añade un <b>str</b> al final de otro </h3> </td> \n",
    "    </tr>\n",
    "    <tr>\n",
    "        <td> <h3> <b> Formato </b> </h3> </td> \n",
    "        <td> <h3> <code> format() </code> </h3> </td> \n",
    "        <td> <h3>  Permite remplazar elementos en un string </h3> </td> \n",
    "    </tr>\n",
    "     \n",
    "</table>\n",
    "\n",
    "En la siguiente casilla muestra el funcionamiento de cada una de estas operaciones:\n"
   ]
  },
  {
   "cell_type": "code",
   "execution_count": null,
   "metadata": {},
   "outputs": [],
   "source": [
    "print(\"Ciencia\" + \"de\" + \"Datos\") "
   ]
  },
  {
   "cell_type": "code",
   "execution_count": null,
   "metadata": {},
   "outputs": [],
   "source": [
    "print('Ciencia'+' '+'de'+' '+'Datos')"
   ]
  },
  {
   "cell_type": "code",
   "execution_count": null,
   "metadata": {},
   "outputs": [],
   "source": [
    "print(\"Ciencia\",\"de\",\"Datos\")"
   ]
  },
  {
   "cell_type": "code",
   "execution_count": null,
   "metadata": {},
   "outputs": [],
   "source": [
    "print(\"Mi nombre es: {}\".format(\"John\"))"
   ]
  },
  {
   "cell_type": "code",
   "execution_count": null,
   "metadata": {},
   "outputs": [],
   "source": [
    "print(\"Tengo {} años\".format(2020-1996))"
   ]
  },
  {
   "cell_type": "code",
   "execution_count": null,
   "metadata": {},
   "outputs": [],
   "source": [
    "print(\"Mi nombre es {} y tengo {} años\".format(\"John\", (2020-1996)))"
   ]
  },
  {
   "cell_type": "code",
   "execution_count": null,
   "metadata": {},
   "outputs": [],
   "source": [
    "# Explora estas funciones en esta casilla\n",
    "\n",
    "\n",
    "\n",
    "\n",
    "#"
   ]
  },
  {
   "cell_type": "markdown",
   "metadata": {},
   "source": [
    "### Definir Variables\n",
    "\n",
    "En gran parte, el potencial que tienen los lenguajes de programación, es que nos permiten definir variables. Esto nos permite no tener que repetir un nombre, un número, una operación cada vez que la vayamos a utilizar. Contrariamente podemos definir variables que nos permiten llamarlas desde cualquier lugar y actualizarlas en cualquier momento.\n",
    "\n",
    "La sintaxis de Python para la definición de variables es muy sencilla: <code> mi_variable = 2 </code>. Es importante anotar que los nombres de las variables no deben contener espacios. \n",
    "\n",
    "Aparte de esto existen algunas recomendaciones al momento de definir variables. (Estas recomendaciones no hacen parte de la sintaxis de Python, pero son buenas prácticas que nos pueden facilitar el trabajo).\n",
    "\n",
    "\n",
    "* Que sean cortas: *esto facilita llamar la variable desde cualquier lugar*\n",
    "* Que esté escrita *en minúsculas: esto permite diferenciar una variable de otro tipos de elementos*\n",
    "* Que su nombre sea significativo: *esto permite recordarlas, saber qué contienen, y facilitan la lectura de otras personas*\n",
    "\n",
    "En la siguiente casilla muestra el funcionamiento de las variables:\n"
   ]
  },
  {
   "cell_type": "code",
   "execution_count": null,
   "metadata": {},
   "outputs": [],
   "source": [
    "nombre = 'John'\n",
    "edad = (2020-1996)\n",
    "\n",
    "print('Mi nombre es {} y tengo {} años'.format(nombre, edad))"
   ]
  },
  {
   "cell_type": "markdown",
   "metadata": {},
   "source": [
    "### Actualizar una variable\n",
    "\n",
    "El valor de las variables no es estático, sino que puede ser constantemente actualizado a través de nuevas definiciones o al ejecutar algunas operaciones sobre ellas. En las siguientes casillas puedes actualizar el valor de variables numéricas:"
   ]
  },
  {
   "cell_type": "code",
   "execution_count": null,
   "metadata": {},
   "outputs": [],
   "source": [
    "variable = 0"
   ]
  },
  {
   "cell_type": "code",
   "execution_count": null,
   "metadata": {},
   "outputs": [],
   "source": [
    "variable = 1"
   ]
  },
  {
   "cell_type": "code",
   "execution_count": null,
   "metadata": {},
   "outputs": [],
   "source": [
    "variable = variable + 1"
   ]
  },
  {
   "cell_type": "code",
   "execution_count": null,
   "metadata": {},
   "outputs": [],
   "source": [
    "variable += 1"
   ]
  },
  {
   "cell_type": "code",
   "execution_count": null,
   "metadata": {},
   "outputs": [],
   "source": [
    "variable -= 1"
   ]
  },
  {
   "cell_type": "code",
   "execution_count": null,
   "metadata": {},
   "outputs": [],
   "source": [
    "variable *=2"
   ]
  },
  {
   "cell_type": "code",
   "execution_count": null,
   "metadata": {},
   "outputs": [],
   "source": [
    "variable **= 2"
   ]
  },
  {
   "cell_type": "code",
   "execution_count": null,
   "metadata": {},
   "outputs": [],
   "source": [
    "print(\"El valor de mi variable es: {}\".format(variable))"
   ]
  },
  {
   "cell_type": "markdown",
   "metadata": {},
   "source": [
    "En las siguientes casillas puedes ver cómo funcionan estas operaciones con **str**"
   ]
  },
  {
   "cell_type": "code",
   "execution_count": null,
   "metadata": {},
   "outputs": [],
   "source": [
    "nombre = \"John\""
   ]
  },
  {
   "cell_type": "code",
   "execution_count": null,
   "metadata": {},
   "outputs": [],
   "source": [
    "nombre = \"John S.\""
   ]
  },
  {
   "cell_type": "code",
   "execution_count": null,
   "metadata": {},
   "outputs": [],
   "source": [
    "nombre += \"Gómez\""
   ]
  },
  {
   "cell_type": "code",
   "execution_count": null,
   "metadata": {},
   "outputs": [],
   "source": [
    "nombre *= 3"
   ]
  },
  {
   "cell_type": "code",
   "execution_count": null,
   "metadata": {},
   "outputs": [],
   "source": [
    "print(\"Mi nombre es: {}\".format(nombre))"
   ]
  },
  {
   "cell_type": "markdown",
   "metadata": {},
   "source": [
    "<img src=\"https://licania.org/img/LicaniaLogo.png\" alt=\"Licania Logo\" style= \"width=200px;height:200px;\"> "
   ]
  }
 ],
 "metadata": {
  "kernelspec": {
   "display_name": "Python 3",
   "language": "python",
   "name": "python3"
  },
  "language_info": {
   "codemirror_mode": {
    "name": "ipython",
    "version": 3
   },
   "file_extension": ".py",
   "mimetype": "text/x-python",
   "name": "python",
   "nbconvert_exporter": "python",
   "pygments_lexer": "ipython3",
   "version": "3.8.2"
  }
 },
 "nbformat": 4,
 "nbformat_minor": 4
}
