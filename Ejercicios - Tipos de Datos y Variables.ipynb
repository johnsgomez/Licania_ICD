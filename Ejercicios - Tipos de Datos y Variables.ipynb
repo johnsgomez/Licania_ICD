{
 "cells": [
  {
   "cell_type": "markdown",
   "metadata": {},
   "source": [
    "![Introducción a la Ciencia de Datos](https://licania.org/img/datascience_web.jpg)"
   ]
  },
  {
   "cell_type": "markdown",
   "metadata": {},
   "source": [
    "### Ejercicios - Tipos de Datos y Variables"
   ]
  },
  {
   "cell_type": "markdown",
   "metadata": {},
   "source": [
    "Define una variable <code> presentacion </code> de tipo **str** donde escribas una presentación personal dejando espacios <code> {} </code> donde pueda ir información que pueda variar con el paso del tiempo. Por ejemplo <code> \"Estudio en {}\" </code>"
   ]
  },
  {
   "cell_type": "code",
   "execution_count": null,
   "metadata": {},
   "outputs": [],
   "source": [
    "# Define aquí tu variable presentacion\n",
    "\n",
    "\n",
    "\n",
    "#"
   ]
  },
  {
   "cell_type": "markdown",
   "metadata": {},
   "source": [
    "Define las variables de tu presentación personal, como lo habrías hecho hace 10 años. Por ejemplo <code> estudio = \"Escuela Azul\" </code>"
   ]
  },
  {
   "cell_type": "code",
   "execution_count": null,
   "metadata": {},
   "outputs": [],
   "source": [
    "# Define las variables de tu presentación de hace 10 años aquí\n",
    "\n",
    "\n",
    "\n",
    "#"
   ]
  },
  {
   "cell_type": "markdown",
   "metadata": {},
   "source": [
    "Imprime <code> print() </code> tu presentación con las variables que definiste\n",
    "\n",
    "#### Doble click para ver una pista\n",
    "\n",
    "<!--\n",
    "print(presentacion.format(edad, estudio))\n",
    "-->"
   ]
  },
  {
   "cell_type": "code",
   "execution_count": null,
   "metadata": {},
   "outputs": [],
   "source": [
    "# Imprime tu presentación en esta casilla \n",
    "\n",
    "\n",
    "\n",
    "#"
   ]
  },
  {
   "cell_type": "markdown",
   "metadata": {},
   "source": [
    "Actualiza todas tus variables para que correspondan a tu presentación actual. Utiliza en lo posible <code> += </code>, <code> -= </code>, <code> *= </code>."
   ]
  },
  {
   "cell_type": "code",
   "execution_count": null,
   "metadata": {},
   "outputs": [],
   "source": [
    "# Actualiza todas tus variables en la siguiente casilla\n",
    "\n",
    "\n",
    "\n",
    "#"
   ]
  },
  {
   "cell_type": "markdown",
   "metadata": {},
   "source": [
    "Imprime nuevamente tu presentación actualizada."
   ]
  },
  {
   "cell_type": "code",
   "execution_count": null,
   "metadata": {},
   "outputs": [],
   "source": [
    "# Imprime aquí tu presentación actualizada\n",
    "\n",
    "\n",
    "\n",
    "\n",
    "#"
   ]
  },
  {
   "cell_type": "markdown",
   "metadata": {},
   "source": [
    "<img src=\"https://licania.org/img/LicaniaLogo.png\" alt=\"Licania Logo\" style= \"width=200px;height:200px;\"> "
   ]
  }
 ],
 "metadata": {
  "kernelspec": {
   "display_name": "Python 3",
   "language": "python",
   "name": "python3"
  },
  "language_info": {
   "codemirror_mode": {
    "name": "ipython",
    "version": 3
   },
   "file_extension": ".py",
   "mimetype": "text/x-python",
   "name": "python",
   "nbconvert_exporter": "python",
   "pygments_lexer": "ipython3",
   "version": "3.8.2"
  }
 },
 "nbformat": 4,
 "nbformat_minor": 4
}
