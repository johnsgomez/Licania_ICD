{
 "cells": [
  {
   "cell_type": "markdown",
   "metadata": {},
   "source": [
    "![Introducción a la Ciencia de Datos](https://licania.org/img/datascience_web.jpg)"
   ]
  },
  {
   "cell_type": "markdown",
   "metadata": {},
   "source": [
    "### Funciones\n",
    "\n",
    "Podemos pensar en las funciones como un(a) artesan@ que recibe unas meterias primas, y las transforma para convertiralas en una artesanía. Por ejmplo un(a) artesan@ puede recibir unos hilos, transformarlos y generar una prenda de vestir. Así mismo, una función recibe unos **parametros**, ejecuta unas operaciones con ellos y devuelve un **resultado**. Para definir una función en Python utilizamos la siguiente sintaxis:"
   ]
  },
  {
   "cell_type": "code",
   "execution_count": null,
   "metadata": {},
   "outputs": [],
   "source": [
    " # En la definición incluímos el nombre de la función y nombramos los parámetros que recibe\n",
    "    \n",
    "def mi_funcion(parametro1, parametro2):\n",
    "    return parametro1 + parametro2  #En el cuerpo de la función definimos la operación que realiza la función\n",
    "                                    # Usamos la palabra return para definir el objeto que devuelve la función\n",
    "       \n",
    "    "
   ]
  },
  {
   "cell_type": "markdown",
   "metadata": {},
   "source": [
    "Te preguntarás por qué no pasa nada al ejecutar <code> mi_funcion </code>. No te preocupes, son buenas noticias, significa que no hay errores de sintaxis en nuestra definición. Esto se debe a que necesitamos llamar a nuestra función para que ejecute su labor. Para llamar una función en Python, solo necesitamos escribir su nombre escribir su nombre y entre paréntesis escribi los los **parámetros** que necesita: <code> mi_funcion(5, 3) </code>. Para tener acceso al resultado de la función es necesario definir una variable: "
   ]
  },
  {
   "cell_type": "code",
   "execution_count": null,
   "metadata": {},
   "outputs": [],
   "source": [
    "resultado = mi_funcion(5, 3) # Llamamos mi_funcion y almacenamos el resultado en una variable\n",
    "print('el resultado de mi función es:', resultado) # Imprimimos el resultado de nuestra función"
   ]
  },
  {
   "cell_type": "markdown",
   "metadata": {},
   "source": [
    "También es posible definir funciones que no requieran ningún parámetro. Por ejemplo: "
   ]
  },
  {
   "cell_type": "code",
   "execution_count": null,
   "metadata": {},
   "outputs": [],
   "source": [
    "def funcion(): # Para escribir una función sin parámetros simplemente dejamos el paréntesis vacío\n",
    "    return 'Esta función no tienen ningún parámetro'\n",
    "\n",
    "resulta2 = funcion()\n",
    "print(resulta2)"
   ]
  },
  {
   "cell_type": "markdown",
   "metadata": {},
   "source": [
    "Es posible definir variables internas que sean necesarias para el funcionamiento de la función. Es importante tener en cuenta que estas variables solo son accesibles dentro de la función y no fuera de ellas. Para ilustrar esto vamos a definir una función <code> fabrica_corazones(cantidad) </code> que tome como parámetros una cantidad y devuelva un **str** con la cantidad que definimos en us parámetro: "
   ]
  },
  {
   "cell_type": "code",
   "execution_count": null,
   "metadata": {},
   "outputs": [],
   "source": [
    "def fabrica_corazones(cantidad):\n",
    "    corazon = '<3 '\n",
    "    corazon *= cantidad\n",
    "    return corazon\n",
    "\n",
    "corazones = fabrica_corazones(100)\n",
    "print(corazones)"
   ]
  },
  {
   "cell_type": "code",
   "execution_count": null,
   "metadata": {},
   "outputs": [],
   "source": [
    "# Define aquí tu propia función\n",
    "\n",
    "\n",
    "\n",
    "\n",
    "#"
   ]
  },
  {
   "cell_type": "markdown",
   "metadata": {},
   "source": [
    "### Colecciones\n",
    "\n",
    "En Python existen varios tipos de datos que nos permiten almacenar datos u otros objetos. Los más importantes son el conjunto: **set**, el diccionario: **dict**, la lista: **list**, y la tupla: **tuple**. Como **str**, **int** y **float** cada uno se define de manera diferente, y permite realizar operaciones diferentes. "
   ]
  },
  {
   "cell_type": "code",
   "execution_count": null,
   "metadata": {
    "scrolled": true
   },
   "outputs": [],
   "source": [
    "lista = [1, 2, 3, 4, 5, 6, 7, 8, 9, 10]\n",
    "\n",
    "diccionario = {'diccionario': 'es una colección de objetos almacenados como pares de key y values',\n",
    "               'key': 'Es el nombre que almacena un valor',  # Muy similar a una variable\n",
    "                'values': 'Es el valor que es almacenado'} # como el valor de una variable\n",
    "\n",
    "\n",
    "\n",
    "conjunto = {'esto ', 'es ', 'un ', 'conjunto ', 'de ', 'palabras'}\n",
    "\n",
    "tupla = ('John Gómez', 'Profesor')\n",
    "\n",
    "print('lista es un:', type(lista))\n",
    "print('diccionario es un:', type(diccionario))\n",
    "print('conjunto es un:', type(conjunto))\n",
    "print('tupla es un:', type(tupla))"
   ]
  },
  {
   "cell_type": "markdown",
   "metadata": {},
   "source": [
    "### Listas \n",
    "\n",
    "Una lista es una collección ordenada de objetos o datos. Esto quiere decir que una lista no solo guarda los datos sino que guarda la posición en la que se encuentra cada uno de ellos. Además de esto las listas permiten almacenar objetos o datos repetidos. \n",
    "\n",
    "Los datos de una lista están indexados, es decir cada uno tiene un valor asociado: \n",
    "\n",
    "<code>     0        1       2           3      </code> <br>\n",
    "<code> ['perro', 'gato', 'pájaro', 'elefante'] </code>\n",
    "\n",
    "Como puede verse en Python no empezamos a contar por 1 sino por 0. Para acceder a cada uno de los elementos de una lista podemos utilizar la siguiente sintaxis: <code> lista[0] </code>:"
   ]
  },
  {
   "cell_type": "code",
   "execution_count": null,
   "metadata": {},
   "outputs": [],
   "source": [
    "animales = ['perro', 'gato', 'pájaro', 'elefante']\n",
    "\n",
    "animales[0]\n",
    "\n",
    "# Imprime el último animal de la lista\n",
    "\n",
    "\n",
    "# "
   ]
  },
  {
   "cell_type": "markdown",
   "metadata": {},
   "source": [
    "También es posible llamar los elementos de una lista de atrás hacia adelante utilizando valores negativos <code> animales[-1] </code>. En Python es posible llamar los elementos de una lista de muchas formas diferentes, utilizando una notación llamada **slicing**. En este [link](https://uniwebsidad.com/foro/pregunta/250/como-entender-bien-la-notacion-slice-de-python/) puedes encontrar más información sobre cómo funciona esta notación."
   ]
  },
  {
   "cell_type": "code",
   "execution_count": null,
   "metadata": {},
   "outputs": [],
   "source": [
    "# Llama el primer elemento de la lista animales usando un index negativo\n",
    "\n",
    "#"
   ]
  },
  {
   "cell_type": "markdown",
   "metadata": {},
   "source": [
    "Todas las colecciones de Python permiten almacenar elementos de cualquier tipo. Es por esto que es posible definir una lista de listas. Para acceder a los elementos de una lista de listas, podemos usar una doble indexación <code> lista[4][3] </code>:\n"
   ]
  },
  {
   "cell_type": "code",
   "execution_count": null,
   "metadata": {},
   "outputs": [],
   "source": [
    "buscador = [\n",
    "          ['X', 'X', 'X', 'X','X', 'X', 'X', 'X', 'X', 'X', 'X', 'X'],\n",
    "          ['X', 'O', 'X', 'X','X', 'X', 'X', 'X', 'X', 'X', 'X', 'X'],\n",
    "          ['X', 'X', 'X', 'X','X', 'X', 'X', 'X', 'X', 'X', 'X', 'X'],\n",
    "          ['X', 'X', 'X', 'X','X', 'X', 'O', 'X', 'X', 'X', 'X', 'X'],\n",
    "          ['X', 'X', 'X', 'X','X', 'X', 'X', 'X', 'X', 'X', 'X', 'X'],\n",
    "          ['X', 'X', 'X', 'X','X', 'X', 'X', 'X', 'X', 'X', 'X', 'X'],\n",
    "          ['X', 'X', 'X', 'X','X', 'X', 'X', 'X', 'X', 'X', 'X', 'X'],\n",
    "          ['X', 'X', 'X', 'X','X', 'X', 'X', 'X', 'X', 'X', 'X', 'X'],\n",
    "          ['X', 'O', 'X', 'X','X', 'X', 'X', 'X', 'X', 'X', 'X', 'X']\n",
    "         ]\n",
    "\n",
    "# Encuentra las tres bolitas\n",
    "\n",
    "print(buscador[1][1])\n"
   ]
  },
  {
   "cell_type": "markdown",
   "metadata": {},
   "source": [
    "Cambiar los valores de elementos específicos de una lista es muy sencillo, solo es necesario localizar el elemento y asignarle un nuevo valor: <code> buscador[0][0] = 'O' </code>"
   ]
  },
  {
   "cell_type": "code",
   "execution_count": null,
   "metadata": {},
   "outputs": [],
   "source": [
    "buscador[0][0] = 'O'\n",
    "\n",
    "for x in buscador: \n",
    "    print(x)"
   ]
  },
  {
   "cell_type": "markdown",
   "metadata": {},
   "source": [
    "Para agregar elementos a una lista existente, podemos utilizar el método <code> lista.append() </code>. Por ejemplo si quisieramos añadir una nueva línea a nuestro buscador:"
   ]
  },
  {
   "cell_type": "code",
   "execution_count": null,
   "metadata": {},
   "outputs": [],
   "source": [
    "buscador.append(['X', 'X', 'X', 'X','X', 'X', 'X', 'X', 'X', 'X', 'X', 'X'])\n",
    "\n",
    "for x in buscador: \n",
    "    print(x)"
   ]
  },
  {
   "cell_type": "markdown",
   "metadata": {},
   "source": [
    "### Diccionarios\n",
    "\n",
    "Acceder a la información de los diccionarios es muy sencillo. Podemos algún <code> value </code> en el diccionario usando su <code> key </code> de esta manera. <code> diccionario['key'] </code>:\n"
   ]
  },
  {
   "cell_type": "code",
   "execution_count": null,
   "metadata": {},
   "outputs": [],
   "source": [
    "diccionario = {'diccionario': 'es una colección de objetos almacenados como pares de key y values',\n",
    "               'key': 'Es el nombre que almacena un valor',  # Muy similar a una variable\n",
    "                'values': 'Es el valor que es almacenado'} # como el valor de una variable\n",
    "\n",
    "diccionario['key']"
   ]
  },
  {
   "cell_type": "markdown",
   "metadata": {},
   "source": [
    "También es posible acceder a listas de los <code> keys </code> usando el método <code> diccionario.keys() </code>. Podemos acceder a una lista de los <code> values </code> usando el método <code> diccionario.values() </code>. Finalmente, podemos acceder a una lista de pares <code> (key, value) </code> usando el método <code> diccionario.items() </code>"
   ]
  },
  {
   "cell_type": "code",
   "execution_count": null,
   "metadata": {},
   "outputs": [],
   "source": [
    "diccionario.keys()"
   ]
  },
  {
   "cell_type": "code",
   "execution_count": null,
   "metadata": {},
   "outputs": [],
   "source": [
    "diccionario.values()"
   ]
  },
  {
   "cell_type": "code",
   "execution_count": null,
   "metadata": {},
   "outputs": [],
   "source": [
    "diccionario.items()"
   ]
  },
  {
   "cell_type": "markdown",
   "metadata": {},
   "source": [
    "### Conjuntos"
   ]
  },
  {
   "cell_type": "markdown",
   "metadata": {},
   "source": [
    "Un conjunto es un tipo de colección que no almacena valores repetidos y que no tiene un orden específico. Una aplicación muy útil de los conjuntos es convertir una lista en un conjunto usando la función <code> set() </code>"
   ]
  },
  {
   "cell_type": "code",
   "execution_count": null,
   "metadata": {},
   "outputs": [],
   "source": [
    "mascotas = ['perro', 'gato', 'perro', 'hamster']\n",
    "\n",
    "set_mascotas = set(mascotas)\n",
    "\n",
    "print('mascotas:', len(mascotas))\n",
    "print('set_mascotas', len(set_mascotas))"
   ]
  },
  {
   "cell_type": "markdown",
   "metadata": {},
   "source": [
    "### Tuplas\n",
    "\n",
    "Las tuplas son un tipo de colección que siempre tiene un número fijo elementos que siempre aparecen en el mismo orden. Por ejemplo:\n",
    "\n",
    "<code>   nombre edad   profesión  </code> <br>\n",
    "<code> ('John', 1996, 'profesor') </code>\n",
    "\n",
    "Podemos definir una tupla de la siguiente manera: "
   ]
  },
  {
   "cell_type": "code",
   "execution_count": null,
   "metadata": {},
   "outputs": [],
   "source": [
    "nombre, edad, profesion = ('John', 1996, 'profesor')\n",
    "\n",
    "print('Mi nombre es {}, nací en {} y soy {}.'.format(nombre, edad, profesion))\n",
    "\n",
    "# Esta forma de definir tuplas puede ser muy útil para trabajar con listas de tuplas"
   ]
  },
  {
   "cell_type": "markdown",
   "metadata": {},
   "source": [
    "### Iteraciones sobre listas y diccionarios\n",
    "\n",
    "Una de las grandes potencialidades de los lenguages de programación es la capacidad que tienen de realizar operaciones repetitivas y aburridas. Imagina tener que realizar la misma operación a cada uno de los elementos de una lista. \n",
    "\n",
    "Para eso existen los bucles, que son formas de de realizar una misma operación en cada uno de los elementos de una lista o un diccionario. Uno de los bucles más utilizados en Python es el <code> for </code>. Su sintaxis es muy sencilla: "
   ]
  },
  {
   "cell_type": "code",
   "execution_count": null,
   "metadata": {},
   "outputs": [],
   "source": [
    "numeros = [1, 2, 3, 4, 5 ,6, 7, 8, 9]\n",
    "\n",
    "for n in numeros: # n es una variable que creamos para almacenar el numero\n",
    "                  # con el que estamos trabajando en el ciclo actual\n",
    "    print(n * 10)"
   ]
  },
  {
   "cell_type": "markdown",
   "metadata": {},
   "source": [
    "Dentro de un bucle <code> for </code> también es posible crear variables y llamar funciones que estén definidas afuera del bucle. Por ejemplo: "
   ]
  },
  {
   "cell_type": "code",
   "execution_count": null,
   "metadata": {},
   "outputs": [],
   "source": [
    "def al_cuadrado(n):\n",
    "    return n**2\n",
    "\n",
    "for n in numeros:\n",
    "    print(al_cuadrado(n))\n"
   ]
  },
  {
   "cell_type": "markdown",
   "metadata": {},
   "source": [
    "Una buena forma de almacenar los resultados de un bucle <code> for </code> es crear una nueva lista e ir agregando los resultados: "
   ]
  },
  {
   "cell_type": "code",
   "execution_count": null,
   "metadata": {},
   "outputs": [],
   "source": [
    "numeros2 = []\n",
    "\n",
    "for n in numeros:\n",
    "    numeros2.append(al_cuadrado(n))\n",
    "\n",
    "print(numeros2)"
   ]
  },
  {
   "cell_type": "markdown",
   "metadata": {},
   "source": [
    "Para iterar sobre un diccionario utilizamos <code> diccionario.keys() </code> <code> diccionario.values() </code> o <code> diccionario.items() </code>, dependiendo del elemento sobre el que queramos iterar: \n"
   ]
  },
  {
   "cell_type": "code",
   "execution_count": null,
   "metadata": {},
   "outputs": [],
   "source": [
    "estudiantes = {\n",
    "    'Juan':38,\n",
    "    'Marcela':30,\n",
    "    'Tomás':40,\n",
    "    'María':25,\n",
    "    'Cristina':43\n",
    "}\n",
    "\n",
    "for estudiante in estudiantes.keys():\n",
    "    print(estudiante)"
   ]
  },
  {
   "cell_type": "code",
   "execution_count": null,
   "metadata": {},
   "outputs": [],
   "source": [
    "for edad in estudiantes.values():\n",
    "    print(edad)"
   ]
  },
  {
   "cell_type": "code",
   "execution_count": null,
   "metadata": {},
   "outputs": [],
   "source": [
    "for estudiante, edad in estudiantes.items():\n",
    "    print('{} tiene {} años'.format(estudiante, edad))"
   ]
  },
  {
   "cell_type": "markdown",
   "metadata": {},
   "source": [
    "Para actualizar el valor de un elemento en un diccionario, o añadir un nuevo par de valores utilizamos el método <code> diccionario.update({}) </code> . Por ejemplo para agregar un nuevo estudiante a nuestro diccionario: "
   ]
  },
  {
   "cell_type": "code",
   "execution_count": null,
   "metadata": {},
   "outputs": [],
   "source": [
    "estudiantes.update({'Laura':36})\n",
    "print(estudiantes)"
   ]
  },
  {
   "cell_type": "markdown",
   "metadata": {},
   "source": [
    "Al igual que con las listas, también podemos ejecutar funciones dentro de un bucle <code> for </code>, cuando trabajamos con un diccionario. Supongamos que nuestra lista de estudiantes es de hace 5 años y queremos actualizar las edades de nuestros estudiantes: "
   ]
  },
  {
   "cell_type": "code",
   "execution_count": null,
   "metadata": {},
   "outputs": [],
   "source": [
    "def actualizar(edad):\n",
    "    return edad + 5 \n",
    "\n",
    "for estudiante, edad in estudiantes.items():\n",
    "    edad_actualizada = actualizar(edad)\n",
    "    estudiantes.update({estudiante:edad_actualizada})\n",
    "    \n",
    "print(estudiantes)\n",
    "    "
   ]
  },
  {
   "cell_type": "markdown",
   "metadata": {},
   "source": [
    "<img src=\"https://licania.org/img/LicaniaLogo.png\" alt=\"Licania Logo\" style= \"width=200px;height:200px;\"> "
   ]
  }
 ],
 "metadata": {
  "kernelspec": {
   "display_name": "Python 3",
   "language": "python",
   "name": "python3"
  },
  "language_info": {
   "codemirror_mode": {
    "name": "ipython",
    "version": 3
   },
   "file_extension": ".py",
   "mimetype": "text/x-python",
   "name": "python",
   "nbconvert_exporter": "python",
   "pygments_lexer": "ipython3",
   "version": "3.8.2"
  }
 },
 "nbformat": 4,
 "nbformat_minor": 4
}
